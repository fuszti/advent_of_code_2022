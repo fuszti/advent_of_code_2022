{
  "nbformat": 4,
  "nbformat_minor": 0,
  "metadata": {
    "colab": {
      "provenance": []
    },
    "kernelspec": {
      "name": "python3",
      "display_name": "Python 3"
    },
    "language_info": {
      "name": "python"
    }
  },
  "cells": [
    {
      "cell_type": "markdown",
      "source": [
        "<a href=\"https://githubtocolab.com/fuszti/advent_of_code_2022/blob/main/day_01/AoC_2022_Day_01.ipynb\" target=\"_parent\"><img src=\"https://colab.research.google.com/assets/colab-badge.svg\" alt=\"Open in Colab\"/></a>\n",
        "\n",
        "<details>\n",
        "<summary>What is this notebook?</summary>\n",
        "The [Advent of Code](https://adventofcode.com/2022) is an advent calendar with programming tasks. You have to solve 2 algorithmic problems on each day. I challenge myself to solve them by data scientist tools. So you will see pandas, numpy, torch or datatable tricks here. The tasks are not data scientist tasks, so you can find easier or faster solutions. Perhaps you sometimes find my solutions too artificial. But I try to use the data scientist tool as meaningful way as I can.\n",
        "\n",
        "In [my repository](https://github.com/fuszti/advent_of_code_2022) you find the input.txt file for each day. You can upload that to here, so you can run the code on big input.\n",
        "</details>"
      ],
      "metadata": {
        "id": "CJXI943VwGP6"
      }
    },
    {
      "cell_type": "code",
      "source": [
        "#@title Creating example small input file { display-mode: \"form\" }\n",
        "small_input_text = \\\n",
        "\"\"\"1000\n",
        "2000\n",
        "3000\n",
        "\n",
        "4000\n",
        "\n",
        "5000\n",
        "6000\n",
        "\n",
        "7000\n",
        "8000\n",
        "9000\n",
        "\n",
        "10000\"\"\"\n",
        "with open(\"small_input.txt\", \"w\") as small_file:\n",
        "    small_file.write(small_input_text)"
      ],
      "metadata": {
        "id": "RiSDEb3-wIlJ"
      },
      "execution_count": null,
      "outputs": []
    },
    {
      "cell_type": "markdown",
      "source": [
        "# Task 1\n",
        "Source: https://adventofcode.com/2022/day/1\n",
        "<details>\n",
        "  <summary>Show me the description of the task 1</summary>\n",
        "The jungle must be too overgrown and difficult to navigate in vehicles or access from the air; the Elves' expedition traditionally goes on foot. As your boats approach land, the Elves begin taking inventory of their supplies. One important consideration is food - in particular, the number of Calories each Elf is carrying (your puzzle input).\n",
        "\n",
        "The Elves take turns writing down the number of Calories contained by the various meals, snacks, rations, etc. that they've brought with them, one item per line. Each Elf separates their own inventory from the previous Elf's inventory (if any) by a blank line.\n",
        "\n",
        "For example, suppose the Elves finish writing their items' Calories and end up with the following list:\n",
        "\n",
        "```\n",
        "1000\n",
        "2000\n",
        "3000\n",
        "\n",
        "4000\n",
        "\n",
        "5000\n",
        "6000\n",
        "\n",
        "7000\n",
        "8000\n",
        "9000\n",
        "\n",
        "10000\n",
        "```\n",
        "This list represents the Calories of the food carried by five Elves:\n",
        "\n",
        "The first Elf is carrying food with 1000, 2000, and 3000 Calories, a total of 6000 Calories.\n",
        "The second Elf is carrying one food item with 4000 Calories.\n",
        "The third Elf is carrying food with 5000 and 6000 Calories, a total of 11000 Calories.\n",
        "The fourth Elf is carrying food with 7000, 8000, and 9000 Calories, a total of 24000 Calories.\n",
        "The fifth Elf is carrying one food item with 10000 Calories.\n",
        "In case the Elves get hungry and need extra snacks, they need to know which Elf to ask: they'd like to know how many Calories are being carried by the Elf carrying the most Calories. In the example above, this is 24000 (carried by the fourth Elf).\n",
        "\n",
        "Find the Elf carrying the most Calories. How many total Calories is that Elf carrying?\n",
        "\n",
        "Your puzzle answer was 69177.\n",
        "</details>"
      ],
      "metadata": {
        "id": "AJsl3W8LCG42"
      }
    },
    {
      "cell_type": "code",
      "source": [
        "from itertools import zip_longest\n",
        "import numpy as np"
      ],
      "metadata": {
        "id": "7LiNCBYCyO9R"
      },
      "execution_count": null,
      "outputs": []
    },
    {
      "cell_type": "code",
      "source": [
        "def solve_task_1(input_file_name):\n",
        "    calories_for_each_elf = read_calories_into_matrix(input_file_name)\n",
        "    return calories_for_each_elf.sum(axis=0).max()\n",
        "\n",
        "def read_calories_into_matrix(input_file_name):\n",
        "    \"\"\"\n",
        "    Returns matrix, where nth column contains the items' calories of nth elv\n",
        "    \"\"\"\n",
        "    calories = read_calories_into_lists(input_file_name)\n",
        "    calories_matrix = np.array(list(zip_longest(*calories, fillvalue=0)))\n",
        "    return calories_matrix\n",
        "\n",
        "def read_calories_into_lists(input_file_name):\n",
        "    calories = [[]]\n",
        "    with open(input_file_name, \"r\") as input_file:\n",
        "        for item_calories in input_file:\n",
        "            try:\n",
        "                item_calories_int = int(item_calories)\n",
        "                calories[-1].append(item_calories_int)\n",
        "            except:\n",
        "                calories.append([])\n",
        "    return calories"
      ],
      "metadata": {
        "id": "UO0T3oYhyQhy"
      },
      "execution_count": null,
      "outputs": []
    },
    {
      "cell_type": "code",
      "source": [
        "task_input = \"small_input.txt\" # \"input.txt\"\n",
        "solve_task_1(task_input)"
      ],
      "metadata": {
        "id": "ec15e5eJwqaj"
      },
      "execution_count": null,
      "outputs": []
    },
    {
      "cell_type": "markdown",
      "source": [
        "## Key tricks\n",
        "The numpy sum and max function is a natural choice for the task. But the question is that how I can create a matrix from the input file. Where the elves' list have different lengths.\n",
        "\n",
        "This is a padding problem. A comfortable tool for this is the zip_longest fucntion from the itertools.\n",
        "\n",
        "Source: https://stackoverflow.com/questions/63879780/numpy-array-from-list-of-lists-with-different-length-padding"
      ],
      "metadata": {
        "id": "6wcM9-CBEE2b"
      }
    },
    {
      "cell_type": "markdown",
      "source": [
        "# Task 2\n",
        "\n",
        "Source: https://adventofcode.com/2022/day/1\n",
        "<details>\n",
        "  <summary>Show me the description of the task 2</summary>\n",
        "  \n",
        "By the time you calculate the answer to the Elves' question, they've already realized that the Elf carrying the most Calories of food might eventually run out of snacks.\n",
        "\n",
        "To avoid this unacceptable situation, the Elves would instead like to know the total Calories carried by the top three Elves carrying the most Calories. That way, even if one of those Elves runs out of snacks, they still have two backups.\n",
        "\n",
        "In the example above, the top three Elves are the fourth Elf (with 24000 Calories), then the third Elf (with 11000 Calories), then the fifth Elf (with 10000 Calories). The sum of the Calories carried by these three elves is 45000.\n",
        "\n",
        "Find the top three Elves carrying the most Calories. How many Calories are those Elves carrying in total?\n",
        "\n",
        "Your puzzle answer was 207456.\n",
        "</details>"
      ],
      "metadata": {
        "id": "8JNW3HKw2EFQ"
      }
    },
    {
      "cell_type": "code",
      "source": [
        "def solve_task_2(input_file_name):\n",
        "    calories_for_each_elf = read_calories_into_matrix(input_file_name)\n",
        "    sum_of_calories = calories_for_each_elf.sum(axis=0)\n",
        "    ordered_indices = np.argsort(sum_of_calories, axis=-1, \n",
        "                                 kind='quicksort', order=None)\n",
        "    return sum_of_calories[ordered_indices[-3:]].sum()"
      ],
      "metadata": {
        "id": "Jlzcs-on0vjc"
      },
      "execution_count": null,
      "outputs": []
    },
    {
      "cell_type": "code",
      "source": [
        "task_input = \"small_input.txt\" # \"input.txt\"\n",
        "solve_task_2(task_input)"
      ],
      "metadata": {
        "id": "2uaZ65q022sh"
      },
      "execution_count": null,
      "outputs": []
    },
    {
      "cell_type": "markdown",
      "source": [
        "## Key tricks\n",
        "We have to find the top k elements in the sum vector. The easy solution comes from the using of the numpy argsort function that returns the sorted indices based on the values. So the first element in the result vector is the index of the smallest element in the sum vector, the last one is the index of the biggest element. Therefore we can select the top 3 element from the sum vector by indexing the last 3 elements from this ordered index array.\n",
        "\n",
        "Source:\n",
        "\n",
        "https://www.geeksforgeeks.org/how-to-get-the-n-largest-values-of-an-array-using-numpy/\n",
        "https://numpy.org/doc/stable/reference/generated/numpy.argsort.html"
      ],
      "metadata": {
        "id": "0xO0odvQFho-"
      }
    }
  ]
}