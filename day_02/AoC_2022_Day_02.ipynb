{
  "nbformat": 4,
  "nbformat_minor": 0,
  "metadata": {
    "colab": {
      "provenance": []
    },
    "kernelspec": {
      "name": "python3",
      "display_name": "Python 3"
    },
    "language_info": {
      "name": "python"
    }
  },
  "cells": [
    {
      "cell_type": "markdown",
      "source": [
        "<a href=\"https://githubtocolab.com/fuszti/advent_of_code_2022/blob/main/day_01/AoC_2022_Day_01.ipynb\" target=\"_parent\"><img src=\"https://colab.research.google.com/assets/colab-badge.svg\" alt=\"Open in Colab\"/></a>\n",
        "\n",
        "<details>\n",
        "<summary>What is this notebook?</summary>\n",
        "The [Advent of Code](https://adventofcode.com/2022) is an advent calendar with programming tasks. You have to solve 2 algorithmic problems on each day. I challenge myself to solve them by data scientist tools. So you will see pandas, numpy, torch or datatable tricks here. The tasks are not data scientist tasks, so you can find easier or faster solutions. Perhaps you sometimes find my solutions too artificial. But I try to use the data scientist tool as meaningful way as I can.\n",
        "\n",
        "In [my repository](https://github.com/fuszti/advent_of_code_2022) you find the input.txt file for each day. You can upload that to here, so you can run the code on big input.\n",
        "</details>"
      ],
      "metadata": {
        "id": "CJXI943VwGP6"
      }
    },
    {
      "cell_type": "code",
      "source": [
        "#@title Creating example small input file { display-mode: \"form\" }\n",
        "small_input_text = \\\n",
        "\"\"\"A Y\n",
        "B X\n",
        "C Z\"\"\"\n",
        "with open(\"small_input.txt\", \"w\") as small_file:\n",
        "    small_file.write(small_input_text)"
      ],
      "metadata": {
        "id": "RiSDEb3-wIlJ"
      },
      "execution_count": 1,
      "outputs": []
    },
    {
      "cell_type": "markdown",
      "source": [
        "# Task 1\n",
        "Source: https://adventofcode.com/2022/day/2\n",
        "<details>\n",
        "  <summary>Show me the description of the task 1</summary>\n",
        "--- Day 2: Rock Paper Scissors ---\n",
        "The Elves begin to set up camp on the beach. To decide whose tent gets to be closest to the snack storage, a giant Rock Paper Scissors tournament is already in progress.\n",
        "\n",
        "Rock Paper Scissors is a game between two players. Each game contains many rounds; in each round, the players each simultaneously choose one of Rock, Paper, or Scissors using a hand shape. Then, a winner for that round is selected: Rock defeats Scissors, Scissors defeats Paper, and Paper defeats Rock. If both players choose the same shape, the round instead ends in a draw.\n",
        "\n",
        "Appreciative of your help yesterday, one Elf gives you an encrypted strategy guide (your puzzle input) that they say will be sure to help you win. \"The first column is what your opponent is going to play: A for Rock, B for Paper, and C for Scissors. The second column--\" Suddenly, the Elf is called away to help with someone's tent.\n",
        "\n",
        "The second column, you reason, must be what you should play in response: X for Rock, Y for Paper, and Z for Scissors. Winning every time would be suspicious, so the responses must have been carefully chosen.\n",
        "\n",
        "The winner of the whole tournament is the player with the highest score. Your total score is the sum of your scores for each round. The score for a single round is the score for the shape you selected (1 for Rock, 2 for Paper, and 3 for Scissors) plus the score for the outcome of the round (0 if you lost, 3 if the round was a draw, and 6 if you won).\n",
        "\n",
        "Since you can't be sure if the Elf is trying to help you or trick you, you should calculate the score you would get if you were to follow the strategy guide.\n",
        "\n",
        "For example, suppose you were given the following strategy guide:\n",
        "\n",
        "A Y\n",
        "B X\n",
        "C Z\n",
        "This strategy guide predicts and recommends the following:\n",
        "\n",
        "In the first round, your opponent will choose Rock (A), and you should choose Paper (Y). This ends in a win for you with a score of 8 (2 because you chose Paper + 6 because you won).\n",
        "In the second round, your opponent will choose Paper (B), and you should choose Rock (X). This ends in a loss for you with a score of 1 (1 + 0).\n",
        "The third round is a draw with both players choosing Scissors, giving you a score of 3 + 3 = 6.\n",
        "In this example, if you were to follow the strategy guide, you would get a total score of 15 (8 + 1 + 6).\n",
        "\n",
        "What would your total score be if everything goes exactly according to your strategy guide?\n",
        "</details>"
      ],
      "metadata": {
        "id": "AJsl3W8LCG42"
      }
    },
    {
      "cell_type": "code",
      "source": [
        "import pandas as pd"
      ],
      "metadata": {
        "id": "7LiNCBYCyO9R"
      },
      "execution_count": 2,
      "outputs": []
    },
    {
      "cell_type": "code",
      "source": [
        "I_MOVE_ROCK = \"X\"\n",
        "I_MOVE_PAPER = \"Y\"\n",
        "I_MOVE_SCISSORS = \"Z\"\n",
        "OPPONENT_MOVE_ROCK = \"A\"\n",
        "OPPONENT_MOVE_PAPER = \"B\"\n",
        "OPPONENT_MOVE_SCISSORS = \"C\"\n",
        "\n",
        "def solve_task_1(input_file_name):\n",
        "    match_df = read_match_df(input_file_name)\n",
        "    match_df[[\"point_from_move\", \"point_from_match\"]] = 0\n",
        "    match_df = calculate_match_point(match_df)\n",
        "    match_df = calculate_move_point(match_df)\n",
        "    return (match_df[\"point_from_move\"] + match_df[\"point_from_match\"]).sum()\n",
        "\n",
        "def read_match_df(input_file_name, column_names=None):\n",
        "    if column_names == None:\n",
        "        column_names = [\"opponent_move\", \"my_move\"]\n",
        "    match_df = pd.read_csv(input_file_name, sep=\" \", header=None)\n",
        "    match_df.columns = column_names\n",
        "    return match_df\n",
        "\n",
        "def calculate_move_point(match_df):\n",
        "    match_df.loc[match_df.my_move == I_MOVE_ROCK, \"point_from_move\"] = 1\n",
        "    match_df.loc[match_df.my_move == I_MOVE_PAPER, \"point_from_move\"] = 2\n",
        "    match_df.loc[match_df.my_move == I_MOVE_SCISSORS, \"point_from_move\"] = 3\n",
        "    return match_df\n",
        "\n",
        "def calculate_match_point(match_df):\n",
        "    is_draw = ((match_df.opponent_move == OPPONENT_MOVE_ROCK) & \\\n",
        "               (match_df.my_move == I_MOVE_ROCK)) | \\\n",
        "              ((match_df.opponent_move == OPPONENT_MOVE_PAPER) & \\\n",
        "               (match_df.my_move == I_MOVE_PAPER)) | \\\n",
        "              ((match_df.opponent_move == OPPONENT_MOVE_SCISSORS) & \\\n",
        "               (match_df.my_move == I_MOVE_SCISSORS)) \n",
        "    is_winning = ((match_df.opponent_move == OPPONENT_MOVE_ROCK) & \\\n",
        "                  (match_df.my_move == I_MOVE_PAPER)) | \\\n",
        "                 ((match_df.opponent_move == OPPONENT_MOVE_PAPER) & \\\n",
        "                  (match_df.my_move == I_MOVE_SCISSORS)) | \\\n",
        "                 ((match_df.opponent_move == OPPONENT_MOVE_SCISSORS) & \\\n",
        "                  (match_df.my_move == I_MOVE_ROCK))\n",
        "    match_df.loc[is_draw, \"point_from_match\"] = 3\n",
        "    match_df.loc[is_winning, \"point_from_match\"] = 6\n",
        "    return match_df \n"
      ],
      "metadata": {
        "id": "UO0T3oYhyQhy"
      },
      "execution_count": 15,
      "outputs": []
    },
    {
      "cell_type": "code",
      "source": [
        "input_file_name = \"small_input.txt\"\n",
        "solve_task_1(input_file_name)"
      ],
      "metadata": {
        "id": "ec15e5eJwqaj",
        "colab": {
          "base_uri": "https://localhost:8080/"
        },
        "outputId": "336f17e4-ee8d-4c6f-8e7c-df47b5a7aed6"
      },
      "execution_count": 16,
      "outputs": [
        {
          "output_type": "execute_result",
          "data": {
            "text/plain": [
              "10310"
            ]
          },
          "metadata": {},
          "execution_count": 16
        }
      ]
    },
    {
      "cell_type": "markdown",
      "source": [
        "## Key tricks\n",
        "Using the .loc function of the pandas DataFrame to change values based on conditions."
      ],
      "metadata": {
        "id": "6wcM9-CBEE2b"
      }
    },
    {
      "cell_type": "markdown",
      "source": [
        "# Task 2\n",
        "\n",
        "Source: https://adventofcode.com/2022/day/2\n",
        "<details>\n",
        "  <summary>Show me the description of the task 2</summary>\n",
        "  \n",
        "--- Part Two ---\n",
        "The Elf finishes helping with the tent and sneaks back over to you. \"Anyway, the second column says how the round needs to end: X means you need to lose, Y means you need to end the round in a draw, and Z means you need to win. Good luck!\"\n",
        "\n",
        "The total score is still calculated in the same way, but now you need to figure out what shape to choose so the round ends as indicated. The example above now goes like this:\n",
        "\n",
        "In the first round, your opponent will choose Rock (A), and you need the round to end in a draw (Y), so you also choose Rock. This gives you a score of 1 + 3 = 4.\n",
        "In the second round, your opponent will choose Paper (B), and you choose Rock so you lose (X) with a score of 1 + 0 = 1.\n",
        "In the third round, you will defeat your opponent's Scissors with Rock for a score of 1 + 6 = 7.\n",
        "Now that you're correctly decrypting the ultra top secret strategy guide, you would get a total score of 12.\n",
        "\n",
        "Following the Elf's instructions for the second column, what would your total score be if everything goes exactly according to your strategy guide?\n",
        "</details>"
      ],
      "metadata": {
        "id": "8JNW3HKw2EFQ"
      }
    },
    {
      "cell_type": "code",
      "source": [
        "DRAW = \"Y\"\n",
        "WINNING = \"Z\"\n",
        "LOSING = \"X\"\n",
        "\n",
        "def solve_task_2(input_file_name):\n",
        "    match_df = read_match_df(input_file_name,\n",
        "                             column_names = [\"opponent_move\", \"outcome\"])\n",
        "    match_df[[\"point_from_move\", \"point_from_match\"]] = 0\n",
        "    match_df = calculate_my_move(match_df)\n",
        "    match_df = calculate_match_point(match_df)\n",
        "    match_df = calculate_move_point(match_df)\n",
        "    return (match_df[\"point_from_move\"] + match_df[\"point_from_match\"]).sum()\n",
        "\n",
        "def calculate_my_move(match_df):\n",
        "    should_move_paper = ((match_df.outcome == DRAW) & \n",
        "                         (match_df.opponent_move == OPPONENT_MOVE_PAPER)) | \\\n",
        "                        ((match_df.outcome == WINNING) & \n",
        "                         (match_df.opponent_move == OPPONENT_MOVE_ROCK)) | \\\n",
        "                        ((match_df.outcome == LOSING) & \n",
        "                         (match_df.opponent_move == OPPONENT_MOVE_SCISSORS))\n",
        "    should_move_rock = ((match_df.outcome == DRAW) & \n",
        "                         (match_df.opponent_move == OPPONENT_MOVE_ROCK)) | \\\n",
        "                        ((match_df.outcome == WINNING) & \n",
        "                         (match_df.opponent_move == OPPONENT_MOVE_SCISSORS)) | \\\n",
        "                        ((match_df.outcome == LOSING) & \n",
        "                         (match_df.opponent_move == OPPONENT_MOVE_PAPER))\n",
        "    should_move_scissors = ((match_df.outcome == DRAW) & \n",
        "                         (match_df.opponent_move == OPPONENT_MOVE_SCISSORS)) | \\\n",
        "                        ((match_df.outcome == WINNING) & \n",
        "                         (match_df.opponent_move == OPPONENT_MOVE_PAPER)) | \\\n",
        "                        ((match_df.outcome == LOSING) & \n",
        "                         (match_df.opponent_move == OPPONENT_MOVE_ROCK))\n",
        "    match_df[\"my_move\"] = \"\"\n",
        "    match_df.loc[should_move_paper, \"my_move\"] = I_MOVE_PAPER\n",
        "    match_df.loc[should_move_rock, \"my_move\"] = I_MOVE_ROCK\n",
        "    match_df.loc[should_move_scissors, \"my_move\"] = I_MOVE_SCISSORS\n",
        "    return match_df"
      ],
      "metadata": {
        "id": "Jlzcs-on0vjc"
      },
      "execution_count": 17,
      "outputs": []
    },
    {
      "cell_type": "code",
      "source": [
        "input_file_name = \"small_input.txt\"\n",
        "solve_task_2(input_file_name)"
      ],
      "metadata": {
        "id": "2uaZ65q022sh",
        "colab": {
          "base_uri": "https://localhost:8080/"
        },
        "outputId": "59f8a940-cc74-4ae9-cf88-c65a47da62a5"
      },
      "execution_count": 19,
      "outputs": [
        {
          "output_type": "execute_result",
          "data": {
            "text/plain": [
              "14859"
            ]
          },
          "metadata": {},
          "execution_count": 19
        }
      ]
    },
    {
      "cell_type": "markdown",
      "source": [
        "## Key tricks\n",
        "It's still the .loc function."
      ],
      "metadata": {
        "id": "0xO0odvQFho-"
      }
    },
    {
      "cell_type": "code",
      "source": [],
      "metadata": {
        "id": "WQEBWtfMhQ2C"
      },
      "execution_count": null,
      "outputs": []
    }
  ]
}