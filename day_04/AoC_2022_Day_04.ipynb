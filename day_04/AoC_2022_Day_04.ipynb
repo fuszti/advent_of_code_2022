{
  "nbformat": 4,
  "nbformat_minor": 0,
  "metadata": {
    "colab": {
      "provenance": []
    },
    "kernelspec": {
      "name": "python3",
      "display_name": "Python 3"
    },
    "language_info": {
      "name": "python"
    }
  },
  "cells": [
    {
      "cell_type": "markdown",
      "source": [
        "<a href=\"https://githubtocolab.com/fuszti/advent_of_code_2022/blob/main/day_04/AoC_2022_Day_04.ipynb\" target=\"_parent\"><img src=\"https://colab.research.google.com/assets/colab-badge.svg\" alt=\"Open in Colab\"/></a>\n",
        "\n",
        "<details>\n",
        "<summary>What is this notebook?</summary>\n",
        "The [Advent of Code](https://adventofcode.com/2022) is an advent calendar with programming tasks. You have to solve 2 algorithmic problems on each day. I challenge myself to solve them by data scientist tools. So you will see pandas, numpy, torch or datatable tricks here. The tasks are not data scientist tasks, so you can find easier or faster solutions. Perhaps you sometimes find my solutions too artificial. But I try to use the data scientist tool as meaningful way as I can.\n",
        "\n",
        "In [my repository](https://github.com/fuszti/advent_of_code_2022) you find the input.txt file for each day. You can upload that to here, so you can run the code on big input.\n",
        "</details>"
      ],
      "metadata": {
        "id": "CJXI943VwGP6"
      }
    },
    {
      "cell_type": "code",
      "source": [
        "#@title Creating example small input file { display-mode: \"form\" }\n",
        "small_input_text = \\\n",
        "\"\"\"2-4,6-8\n",
        "2-3,4-5\n",
        "5-7,7-9\n",
        "2-8,3-7\n",
        "6-6,4-6\n",
        "2-6,4-8\"\"\"\n",
        "with open(\"small_input.txt\", \"w\") as small_file:\n",
        "    small_file.write(small_input_text)"
      ],
      "metadata": {
        "id": "RiSDEb3-wIlJ"
      },
      "execution_count": 1,
      "outputs": []
    },
    {
      "cell_type": "markdown",
      "source": [
        "# Task 1\n",
        "Source: https://adventofcode.com/2022/day/4\n",
        "<details>\n",
        "  <summary>Show me the description of the task 1</summary>\n",
        "--- Day 4: Camp Cleanup ---\n",
        "Space needs to be cleared before the last supplies can be unloaded from the ships, and so several Elves have been assigned the job of cleaning up sections of the camp. Every section has a unique ID number, and each Elf is assigned a range of section IDs.\n",
        "\n",
        "However, as some of the Elves compare their section assignments with each other, they've noticed that many of the assignments overlap. To try to quickly find overlaps and reduce duplicated effort, the Elves pair up and make a big list of the section assignments for each pair (your puzzle input).\n",
        "\n",
        "For example, consider the following list of section assignment pairs:\n",
        "\n",
        "2-4,6-8\n",
        "2-3,4-5\n",
        "5-7,7-9\n",
        "2-8,3-7\n",
        "6-6,4-6\n",
        "2-6,4-8\n",
        "For the first few pairs, this list means:\n",
        "\n",
        "Within the first pair of Elves, the first Elf was assigned sections 2-4 (sections 2, 3, and 4), while the second Elf was assigned sections 6-8 (sections 6, 7, 8).\n",
        "The Elves in the second pair were each assigned two sections.\n",
        "The Elves in the third pair were each assigned three sections: one got sections 5, 6, and 7, while the other also got 7, plus 8 and 9.\n",
        "This example list uses single-digit section IDs to make it easier to draw; your actual list might contain larger numbers. Visually, these pairs of section assignments look like this:\n",
        "\n",
        ".234.....  2-4\n",
        ".....678.  6-8\n",
        "\n",
        ".23......  2-3\n",
        "...45....  4-5\n",
        "\n",
        "....567..  5-7\n",
        "......789  7-9\n",
        "\n",
        ".2345678.  2-8\n",
        "..34567..  3-7\n",
        "\n",
        ".....6...  6-6\n",
        "...456...  4-6\n",
        "\n",
        ".23456...  2-6\n",
        "...45678.  4-8\n",
        "Some of the pairs have noticed that one of their assignments fully contains the other. For example, 2-8 fully contains 3-7, and 6-6 is fully contained by 4-6. In pairs where one assignment fully contains the other, one Elf in the pair would be exclusively cleaning sections their partner will already be cleaning, so these seem like the most in need of reconsideration. In this example, there are 2 such pairs.\n",
        "\n",
        "In how many assignment pairs does one range fully contain the other?\n",
        "</details>"
      ],
      "metadata": {
        "id": "AJsl3W8LCG42"
      }
    },
    {
      "cell_type": "code",
      "source": [
        "import pandas as pd"
      ],
      "metadata": {
        "id": "7LiNCBYCyO9R"
      },
      "execution_count": 2,
      "outputs": []
    },
    {
      "cell_type": "code",
      "source": [
        "def solve_task_1(input_file_name):\n",
        "    intervals = read_intervals(input_file_name)\n",
        "    is_second_in_first = (intervals[0] <= intervals[2]) & \\\n",
        "                         (intervals[3] <= intervals[1])\n",
        "    is_first_in_second = (intervals[2] <= intervals[0]) & \\\n",
        "                         (intervals[1] <= intervals[3])\n",
        "    return (is_second_in_first | is_first_in_second).sum()\n",
        "\n",
        "def read_intervals(input_file_name):\n",
        "    intervals = pd.read_csv(input_file_name, header=None, sep=\"-|,\")\n",
        "    return intervals"
      ],
      "metadata": {
        "id": "UO0T3oYhyQhy"
      },
      "execution_count": 11,
      "outputs": []
    },
    {
      "cell_type": "code",
      "source": [
        "input_file_name = \"small_input.txt\"\n",
        "solve_task_1(input_file_name)"
      ],
      "metadata": {
        "id": "ec15e5eJwqaj",
        "colab": {
          "base_uri": "https://localhost:8080/"
        },
        "outputId": "5e96cbfe-70f7-4cf7-88cf-5eb0cffdd7da"
      },
      "execution_count": 13,
      "outputs": [
        {
          "output_type": "execute_result",
          "data": {
            "text/plain": [
              "532"
            ]
          },
          "metadata": {},
          "execution_count": 13
        }
      ]
    },
    {
      "cell_type": "markdown",
      "source": [
        "## Key tricks\n",
        "- Using multiple separators in pandas.read_csv function\n",
        "- Define the conditions on the required rows to get bool vector"
      ],
      "metadata": {
        "id": "6wcM9-CBEE2b"
      }
    },
    {
      "cell_type": "markdown",
      "source": [
        "# Task 2\n",
        "\n",
        "Source: https://adventofcode.com/2022/day/4\n",
        "<details>\n",
        "  <summary>Show me the description of the task 2</summary>\n",
        "  \n",
        "--- Part Two ---\n",
        "It seems like there is still quite a bit of duplicate work planned. Instead, the Elves would like to know the number of pairs that overlap at all.\n",
        "\n",
        "In the above example, the first two pairs (2-4,6-8 and 2-3,4-5) don't overlap, while the remaining four pairs (5-7,7-9, 2-8,3-7, 6-6,4-6, and 2-6,4-8) do overlap:\n",
        "\n",
        "5-7,7-9 overlaps in a single section, 7.\n",
        "2-8,3-7 overlaps all of the sections 3 through 7.\n",
        "6-6,4-6 overlaps in a single section, 6.\n",
        "2-6,4-8 overlaps in sections 4, 5, and 6.\n",
        "So, in this example, the number of overlapping assignment pairs is 4.\n",
        "\n",
        "In how many assignment pairs do the ranges overlap?\n",
        "</details>"
      ],
      "metadata": {
        "id": "8JNW3HKw2EFQ"
      }
    },
    {
      "cell_type": "code",
      "source": [
        "def solve_task_2(input_file_name):\n",
        "    intervals = read_intervals(input_file_name)\n",
        "    does_second_begin_first = (intervals[0] <= intervals[2]) & \\\n",
        "                         (intervals[2] <= intervals[1])\n",
        "    does_first_begin_second = (intervals[2] <= intervals[0]) & \\\n",
        "                         (intervals[0] <= intervals[3])\n",
        "    return (does_second_begin_first | does_first_begin_second).sum()"
      ],
      "metadata": {
        "id": "Jlzcs-on0vjc"
      },
      "execution_count": 14,
      "outputs": []
    },
    {
      "cell_type": "code",
      "source": [
        "input_file_name = \"small_input.txt\"\n",
        "solve_task_2(input_file_name)"
      ],
      "metadata": {
        "id": "2uaZ65q022sh",
        "colab": {
          "base_uri": "https://localhost:8080/"
        },
        "outputId": "3482a321-e8c0-45be-a228-4cba21804601"
      },
      "execution_count": 16,
      "outputs": [
        {
          "output_type": "execute_result",
          "data": {
            "text/plain": [
              "854"
            ]
          },
          "metadata": {},
          "execution_count": 16
        }
      ]
    },
    {
      "cell_type": "markdown",
      "source": [
        "## Key tricks\n",
        "Same"
      ],
      "metadata": {
        "id": "0xO0odvQFho-"
      }
    },
    {
      "cell_type": "code",
      "source": [],
      "metadata": {
        "id": "WQEBWtfMhQ2C"
      },
      "execution_count": null,
      "outputs": []
    }
  ]
}