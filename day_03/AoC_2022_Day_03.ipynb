{
  "nbformat": 4,
  "nbformat_minor": 0,
  "metadata": {
    "colab": {
      "provenance": []
    },
    "kernelspec": {
      "name": "python3",
      "display_name": "Python 3"
    },
    "language_info": {
      "name": "python"
    }
  },
  "cells": [
    {
      "cell_type": "markdown",
      "source": [
        "<a href=\"https://githubtocolab.com/fuszti/advent_of_code_2022/blob/main/day_01/AoC_2022_Day_03.ipynb\" target=\"_parent\"><img src=\"https://colab.research.google.com/assets/colab-badge.svg\" alt=\"Open in Colab\"/></a>\n",
        "\n",
        "<details>\n",
        "<summary>What is this notebook?</summary>\n",
        "The [Advent of Code](https://adventofcode.com/2022) is an advent calendar with programming tasks. You have to solve 2 algorithmic problems on each day. I challenge myself to solve them by data scientist tools. So you will see pandas, numpy, torch or datatable tricks here. The tasks are not data scientist tasks, so you can find easier or faster solutions. Perhaps you sometimes find my solutions too artificial. But I try to use the data scientist tool as meaningful way as I can.\n",
        "\n",
        "In [my repository](https://github.com/fuszti/advent_of_code_2022) you find the input.txt file for each day. You can upload that to here, so you can run the code on big input.\n",
        "</details>"
      ],
      "metadata": {
        "id": "CJXI943VwGP6"
      }
    },
    {
      "cell_type": "code",
      "source": [
        "#@title Creating example small input file { display-mode: \"form\" }\n",
        "small_input_text = \\\n",
        "\"\"\"vJrwpWtwJgWrhcsFMMfFFhFp\n",
        "jqHRNqRjqzjGDLGLrsFMfFZSrLrFZsSL\n",
        "PmmdzqPrVvPwwTWBwg\n",
        "wMqvLMZHhHMvwLHjbvcjnnSBnvTQFn\n",
        "ttgJtRGJQctTZtZT\n",
        "CrZsJsPPZsGzwwsLwLmpwMDw\"\"\"\n",
        "with open(\"small_input.txt\", \"w\") as small_file:\n",
        "    small_file.write(small_input_text)"
      ],
      "metadata": {
        "id": "RiSDEb3-wIlJ"
      },
      "execution_count": 20,
      "outputs": []
    },
    {
      "cell_type": "markdown",
      "source": [
        "# Task 1\n",
        "Source: https://adventofcode.com/2022/day/3\n",
        "<details>\n",
        "  <summary>Show me the description of the task 1</summary>\n",
        "--- Day 3: Rucksack Reorganization ---\n",
        "One Elf has the important job of loading all of the rucksacks with supplies for the jungle journey. Unfortunately, that Elf didn't quite follow the packing instructions, and so a few items now need to be rearranged.\n",
        "\n",
        "Each rucksack has two large compartments. All items of a given type are meant to go into exactly one of the two compartments. The Elf that did the packing failed to follow this rule for exactly one item type per rucksack.\n",
        "\n",
        "The Elves have made a list of all of the items currently in each rucksack (your puzzle input), but they need your help finding the errors. Every item type is identified by a single lowercase or uppercase letter (that is, a and A refer to different types of items).\n",
        "\n",
        "The list of items for each rucksack is given as characters all on a single line. A given rucksack always has the same number of items in each of its two compartments, so the first half of the characters represent items in the first compartment, while the second half of the characters represent items in the second compartment.\n",
        "\n",
        "For example, suppose you have the following list of contents from six rucksacks:\n",
        "\n",
        "vJrwpWtwJgWrhcsFMMfFFhFp\n",
        "jqHRNqRjqzjGDLGLrsFMfFZSrLrFZsSL\n",
        "PmmdzqPrVvPwwTWBwg\n",
        "wMqvLMZHhHMvwLHjbvcjnnSBnvTQFn\n",
        "ttgJtRGJQctTZtZT\n",
        "CrZsJsPPZsGzwwsLwLmpwMDw\n",
        "The first rucksack contains the items vJrwpWtwJgWrhcsFMMfFFhFp, which means its first compartment contains the items vJrwpWtwJgWr, while the second compartment contains the items hcsFMMfFFhFp. The only item type that appears in both compartments is lowercase p.\n",
        "The second rucksack's compartments contain jqHRNqRjqzjGDLGL and rsFMfFZSrLrFZsSL. The only item type that appears in both compartments is uppercase L.\n",
        "The third rucksack's compartments contain PmmdzqPrV and vPwwTWBwg; the only common item type is uppercase P.\n",
        "The fourth rucksack's compartments only share item type v.\n",
        "The fifth rucksack's compartments only share item type t.\n",
        "The sixth rucksack's compartments only share item type s.\n",
        "To help prioritize item rearrangement, every item type can be converted to a priority:\n",
        "\n",
        "Lowercase item types a through z have priorities 1 through 26.\n",
        "Uppercase item types A through Z have priorities 27 through 52.\n",
        "In the above example, the priority of the item type that appears in both compartments of each rucksack is 16 (p), 38 (L), 42 (P), 22 (v), 20 (t), and 19 (s); the sum of these is 157.\n",
        "\n",
        "Find the item type that appears in both compartments of each rucksack. What is the sum of the priorities of those item types?\n",
        "</details>"
      ],
      "metadata": {
        "id": "AJsl3W8LCG42"
      }
    },
    {
      "cell_type": "code",
      "source": [
        "import numpy as np\n",
        "from string import ascii_lowercase, ascii_uppercase"
      ],
      "metadata": {
        "id": "7LiNCBYCyO9R"
      },
      "execution_count": 22,
      "outputs": []
    },
    {
      "cell_type": "code",
      "source": [
        "CHAR_TO_ITEM = dict((c, i) for i, c in enumerate(ascii_lowercase + ascii_uppercase))\n",
        "PRIORITY_VEC = np.array([p+1 for p, _ in enumerate(ascii_lowercase + ascii_uppercase)])\n",
        "def solve_task_1(input_file_name):\n",
        "    compartment_1_batch, compartment_2_batch = read_rucksacks(input_file_name)\n",
        "    compartment_1_batch[compartment_1_batch > 0] = 1\n",
        "    compartment_2_batch[compartment_2_batch > 0] = 1\n",
        "    intersection = compartment_1_batch & compartment_2_batch\n",
        "    return (intersection @ PRIORITY_VEC).sum()\n",
        "\n",
        "def read_rucksacks(input_file_name):\n",
        "    with open(input_file_name, \"r\") as input_file:\n",
        "        lines = input_file.readlines()\n",
        "    compartment_1_batch = np.zeros((len(lines), 52), dtype=np.int32)\n",
        "    compartment_2_batch = np.zeros((len(lines), 52), dtype=np.int32)\n",
        "    for idx, line in enumerate(lines):\n",
        "        line = line.strip()\n",
        "        compartment_1_str = line[:len(line) // 2]\n",
        "        compartment_2_str = line[len(line) // 2:]\n",
        "        compartment_1_batch = \\\n",
        "            decode_compartment(compartment_1_batch, compartment_1_str, idx)\n",
        "        compartment_2_batch = \\\n",
        "            decode_compartment(compartment_2_batch, compartment_2_str, idx)\n",
        "    return compartment_1_batch, compartment_2_batch\n",
        "\n",
        "def decode_compartment(compartment_batch, compartment_str, idx):\n",
        "    for c in compartment_str:\n",
        "        compartment_batch[idx, CHAR_TO_ITEM[c]] += 1\n",
        "    return compartment_batch"
      ],
      "metadata": {
        "id": "UO0T3oYhyQhy"
      },
      "execution_count": 70,
      "outputs": []
    },
    {
      "cell_type": "code",
      "source": [
        "input_file_name = \"input.txt\" #\"small_input.txt\"\n",
        "solve_task_1(input_file_name)"
      ],
      "metadata": {
        "id": "ec15e5eJwqaj",
        "colab": {
          "base_uri": "https://localhost:8080/"
        },
        "outputId": "d00cc9c0-4c90-4adb-9ecc-5aff6820a8f9"
      },
      "execution_count": 71,
      "outputs": [
        {
          "output_type": "execute_result",
          "data": {
            "text/plain": [
              "8349"
            ]
          },
          "metadata": {},
          "execution_count": 71
        }
      ]
    },
    {
      "cell_type": "markdown",
      "source": [
        "## Key tricks\n",
        "Working with 52-dim vector encoding for the characters and using the & operator for finding the intersection."
      ],
      "metadata": {
        "id": "6wcM9-CBEE2b"
      }
    },
    {
      "cell_type": "markdown",
      "source": [
        "# Task 2\n",
        "\n",
        "Source: https://adventofcode.com/2022/day/3\n",
        "<details>\n",
        "  <summary>Show me the description of the task 2</summary>\n",
        "  \n",
        "--- Part Two ---\n",
        "As you finish identifying the misplaced items, the Elves come to you with another issue.\n",
        "\n",
        "For safety, the Elves are divided into groups of three. Every Elf carries a badge that identifies their group. For efficiency, within each group of three Elves, the badge is the only item type carried by all three Elves. That is, if a group's badge is item type B, then all three Elves will have item type B somewhere in their rucksack, and at most two of the Elves will be carrying any other item type.\n",
        "\n",
        "The problem is that someone forgot to put this year's updated authenticity sticker on the badges. All of the badges need to be pulled out of the rucksacks so the new authenticity stickers can be attached.\n",
        "\n",
        "Additionally, nobody wrote down which item type corresponds to each group's badges. The only way to tell which item type is the right one is by finding the one item type that is common between all three Elves in each group.\n",
        "\n",
        "Every set of three lines in your list corresponds to a single group, but each group can have a different badge item type. So, in the above example, the first group's rucksacks are the first three lines:\n",
        "\n",
        "vJrwpWtwJgWrhcsFMMfFFhFp\n",
        "jqHRNqRjqzjGDLGLrsFMfFZSrLrFZsSL\n",
        "PmmdzqPrVvPwwTWBwg\n",
        "And the second group's rucksacks are the next three lines:\n",
        "\n",
        "wMqvLMZHhHMvwLHjbvcjnnSBnvTQFn\n",
        "ttgJtRGJQctTZtZT\n",
        "CrZsJsPPZsGzwwsLwLmpwMDw\n",
        "In the first group, the only item type that appears in all three rucksacks is lowercase r; this must be their badges. In the second group, their badge item type must be Z.\n",
        "\n",
        "Priorities for these items must still be found to organize the sticker attachment efforts: here, they are 18 (r) for the first group and 52 (Z) for the second group. The sum of these is 70.\n",
        "\n",
        "Find the item type that corresponds to the badges of each three-Elf group. What is the sum of the priorities of those item types?\n",
        "</details>"
      ],
      "metadata": {
        "id": "8JNW3HKw2EFQ"
      }
    },
    {
      "cell_type": "code",
      "source": [
        "def solve_task_2(input_file_name):\n",
        "    compartment_1_batch, compartment_2_batch = read_rucksacks(input_file_name)\n",
        "    rucksacks = compartment_1_batch + compartment_2_batch\n",
        "    rucksacks_in_groups = np.reshape(rucksacks, (-1, 3, 52))\n",
        "    intersection_for_each_group = np.prod(rucksacks_in_groups, axis=1)\n",
        "    intersection_for_each_group[intersection_for_each_group > 1] = 1\n",
        "    return (intersection_for_each_group @ PRIORITY_VEC).sum()"
      ],
      "metadata": {
        "id": "Jlzcs-on0vjc"
      },
      "execution_count": 72,
      "outputs": []
    },
    {
      "cell_type": "code",
      "source": [
        "input_file_name = \"input.txt\" #\"small_input.txt\"\n",
        "solve_task_2(input_file_name)"
      ],
      "metadata": {
        "id": "2uaZ65q022sh",
        "colab": {
          "base_uri": "https://localhost:8080/"
        },
        "outputId": "fd55703c-6674-455a-b72a-03059030c7fa"
      },
      "execution_count": 74,
      "outputs": [
        {
          "output_type": "execute_result",
          "data": {
            "text/plain": [
              "2681"
            ]
          },
          "metadata": {},
          "execution_count": 74
        }
      ]
    },
    {
      "cell_type": "markdown",
      "source": [
        "## Key tricks\n",
        "Similar approach, but with reshaped array to get the elf groups."
      ],
      "metadata": {
        "id": "0xO0odvQFho-"
      }
    },
    {
      "cell_type": "code",
      "source": [],
      "metadata": {
        "id": "WQEBWtfMhQ2C"
      },
      "execution_count": null,
      "outputs": []
    }
  ]
}
