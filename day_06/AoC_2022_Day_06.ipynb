{
  "nbformat": 4,
  "nbformat_minor": 0,
  "metadata": {
    "colab": {
      "provenance": []
    },
    "kernelspec": {
      "name": "python3",
      "display_name": "Python 3"
    },
    "language_info": {
      "name": "python"
    }
  },
  "cells": [
    {
      "cell_type": "markdown",
      "source": [
        "<a href=\"https://githubtocolab.com/fuszti/advent_of_code_2022/blob/main/day_06/AoC_2022_Day_06.ipynb\" target=\"_parent\"><img src=\"https://colab.research.google.com/assets/colab-badge.svg\" alt=\"Open in Colab\"/></a>\n",
        "\n",
        "<details>\n",
        "<summary>What is this notebook?</summary>\n",
        "The [Advent of Code](https://adventofcode.com/2022) is an advent calendar with programming tasks. You have to solve 2 algorithmic problems on each day. I challenge myself to solve them by data scientist tools. So you will see pandas, numpy, torch or datatable tricks here. The tasks are not data scientist tasks, so you can find easier or faster solutions. Perhaps you sometimes find my solutions too artificial. But I try to use the data scientist tool as meaningful way as I can.\n",
        "\n",
        "In [my repository](https://github.com/fuszti/advent_of_code_2022) you find the input.txt file for each day. You can upload that to here, so you can run the code on big input.\n",
        "</details>"
      ],
      "metadata": {
        "id": "CJXI943VwGP6"
      }
    },
    {
      "cell_type": "code",
      "source": [
        "#@title Creating example small input file { display-mode: \"form\" }\n",
        "small_input_text = \\\n",
        "\"\"\"mjqjpqmgbljsphdztnvjfqwrcgsmlb\"\"\"\n",
        "with open(\"small_input.txt\", \"w\") as small_file:\n",
        "    small_file.write(small_input_text)"
      ],
      "metadata": {
        "id": "RiSDEb3-wIlJ"
      },
      "execution_count": 1,
      "outputs": []
    },
    {
      "cell_type": "markdown",
      "source": [
        "# Task 1\n",
        "Source: https://adventofcode.com/2022/day/6\n",
        "<details>\n",
        "  <summary>Show me the description of the task 1</summary>\n",
        "--- Day 6: Tuning Trouble ---\n",
        "The preparations are finally complete; you and the Elves leave camp on foot and begin to make your way toward the star fruit grove.\n",
        "\n",
        "As you move through the dense undergrowth, one of the Elves gives you a handheld device. He says that it has many fancy features, but the most important one to set up right now is the communication system.\n",
        "\n",
        "However, because he's heard you have significant experience dealing with signal-based systems, he convinced the other Elves that it would be okay to give you their one malfunctioning device - surely you'll have no problem fixing it.\n",
        "\n",
        "As if inspired by comedic timing, the device emits a few colorful sparks.\n",
        "\n",
        "To be able to communicate with the Elves, the device needs to lock on to their signal. The signal is a series of seemingly-random characters that the device receives one at a time.\n",
        "\n",
        "To fix the communication system, you need to add a subroutine to the device that detects a start-of-packet marker in the datastream. In the protocol being used by the Elves, the start of a packet is indicated by a sequence of four characters that are all different.\n",
        "\n",
        "The device will send your subroutine a datastream buffer (your puzzle input); your subroutine needs to identify the first position where the four most recently received characters were all different. Specifically, it needs to report the number of characters from the beginning of the buffer to the end of the first such four-character marker.\n",
        "\n",
        "For example, suppose you receive the following datastream buffer:\n",
        "\n",
        "mjqjpqmgbljsphdztnvjfqwrcgsmlb\n",
        "After the first three characters (mjq) have been received, there haven't been enough characters received yet to find the marker. The first time a marker could occur is after the fourth character is received, making the most recent four characters mjqj. Because j is repeated, this isn't a marker.\n",
        "\n",
        "The first time a marker appears is after the seventh character arrives. Once it does, the last four characters received are jpqm, which are all different. In this case, your subroutine should report the value 7, because the first start-of-packet marker is complete after 7 characters have been processed.\n",
        "\n",
        "Here are a few more examples:\n",
        "\n",
        "bvwbjplbgvbhsrlpgdmjqwftvncz: first marker after character 5\n",
        "nppdvjthqldpwncqszvftbrmjlhg: first marker after character 6\n",
        "nznrnfrfntjfmvfwmzdfjlvtqnbhcprsg: first marker after character 10\n",
        "zcfzfwzzqfrljwzlrfnpqdbhtmscgvjw: first marker after character 11\n",
        "How many characters need to be processed before the first start-of-packet marker is detected?\n",
        "</details>"
      ],
      "metadata": {
        "id": "AJsl3W8LCG42"
      }
    },
    {
      "cell_type": "code",
      "source": [
        "import numpy as np"
      ],
      "metadata": {
        "id": "7LiNCBYCyO9R"
      },
      "execution_count": 2,
      "outputs": []
    },
    {
      "cell_type": "code",
      "source": [
        "def solve_task_1(input_file_name):\n",
        "    code = read_code(input_file_name)\n",
        "    return find_window(code, 4)\n",
        "\n",
        "def find_window(code, window_size):\n",
        "    for i in range(len(code)):\n",
        "        window = code[i:i+window_size]\n",
        "        if len(window) == len(np.unique(window)):\n",
        "            return i+window_size\n",
        "\n",
        "def read_code(input_file_name):\n",
        "    with open(input_file_name) as input_file:\n",
        "        code = input_file.readline()\n",
        "    code_by_chars = [c for c in code]\n",
        "    return np.array(code_by_chars)"
      ],
      "metadata": {
        "id": "UO0T3oYhyQhy"
      },
      "execution_count": 8,
      "outputs": []
    },
    {
      "cell_type": "code",
      "source": [
        "input_file_name = \"small_input.txt\"\n",
        "solve_task_1(input_file_name)"
      ],
      "metadata": {
        "id": "ec15e5eJwqaj",
        "colab": {
          "base_uri": "https://localhost:8080/"
        },
        "outputId": "221f5a01-6b16-437d-f709-e7da0f6488b2"
      },
      "execution_count": 9,
      "outputs": [
        {
          "output_type": "execute_result",
          "data": {
            "text/plain": [
              "7"
            ]
          },
          "metadata": {},
          "execution_count": 9
        }
      ]
    },
    {
      "cell_type": "markdown",
      "source": [
        "## Key tricks\n",
        "len(a) == len(np.unique(a)) is true if and only if the elements in a are unique"
      ],
      "metadata": {
        "id": "6wcM9-CBEE2b"
      }
    },
    {
      "cell_type": "markdown",
      "source": [
        "# Task 2\n",
        "\n",
        "Source: https://adventofcode.com/2022/day/5\n",
        "<details>\n",
        "  <summary>Show me the description of the task 2</summary>\n",
        "  \n",
        "--- Part Two ---\n",
        "As you watch the crane operator expertly rearrange the crates, you notice the process isn't following your prediction.\n",
        "\n",
        "Some mud was covering the writing on the side of the crane, and you quickly wipe it away. The crane isn't a CrateMover 9000 - it's a CrateMover 9001.\n",
        "\n",
        "The CrateMover 9001 is notable for many new and exciting features: air conditioning, leather seats, an extra cup holder, and the ability to pick up and move multiple crates at once.\n",
        "\n",
        "Again considering the example above, the crates begin in the same configuration:\n",
        "\n",
        "    [D]    \n",
        "[N] [C]    \n",
        "[Z] [M] [P]\n",
        " 1   2   3 \n",
        "Moving a single crate from stack 2 to stack 1 behaves the same as before:\n",
        "\n",
        "[D]        \n",
        "[N] [C]    \n",
        "[Z] [M] [P]\n",
        " 1   2   3 \n",
        "However, the action of moving three crates from stack 1 to stack 3 means that those three moved crates stay in the same order, resulting in this new configuration:\n",
        "\n",
        "        [D]\n",
        "        [N]\n",
        "    [C] [Z]\n",
        "    [M] [P]\n",
        " 1   2   3\n",
        "Next, as both crates are moved from stack 2 to stack 1, they retain their order as well:\n",
        "\n",
        "        [D]\n",
        "        [N]\n",
        "[C]     [Z]\n",
        "[M]     [P]\n",
        " 1   2   3\n",
        "Finally, a single crate is still moved from stack 1 to stack 2, but now it's crate C that gets moved:\n",
        "\n",
        "        [D]\n",
        "        [N]\n",
        "        [Z]\n",
        "[M] [C] [P]\n",
        " 1   2   3\n",
        "In this example, the CrateMover 9001 has put the crates in a totally different order: MCD.\n",
        "\n",
        "Before the rearrangement process finishes, update your simulation so that the Elves know where they should stand to be ready to unload the final supplies. After the rearrangement procedure completes, what crate ends up on top of each stack?\n",
        "</details>"
      ],
      "metadata": {
        "id": "8JNW3HKw2EFQ"
      }
    },
    {
      "cell_type": "code",
      "source": [
        "def solve_task_2(input_file_name):\n",
        "    code = read_code(input_file_name)\n",
        "    return find_window(code, 14)"
      ],
      "metadata": {
        "id": "Jlzcs-on0vjc"
      },
      "execution_count": 10,
      "outputs": []
    },
    {
      "cell_type": "code",
      "source": [
        "input_file_name = \"small_input.txt\"\n",
        "solve_task_2(input_file_name)"
      ],
      "metadata": {
        "id": "2uaZ65q022sh",
        "colab": {
          "base_uri": "https://localhost:8080/"
        },
        "outputId": "fc9f61c6-989c-4dc0-e4a8-e9b5acb8053b"
      },
      "execution_count": 12,
      "outputs": [
        {
          "output_type": "execute_result",
          "data": {
            "text/plain": [
              "2145"
            ]
          },
          "metadata": {},
          "execution_count": 12
        }
      ]
    },
    {
      "cell_type": "markdown",
      "source": [
        "## Key tricks\n",
        "Same"
      ],
      "metadata": {
        "id": "0xO0odvQFho-"
      }
    },
    {
      "cell_type": "code",
      "source": [],
      "metadata": {
        "id": "WQEBWtfMhQ2C"
      },
      "execution_count": null,
      "outputs": []
    }
  ]
}