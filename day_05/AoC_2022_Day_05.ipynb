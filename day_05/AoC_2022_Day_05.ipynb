{
  "nbformat": 4,
  "nbformat_minor": 0,
  "metadata": {
    "colab": {
      "provenance": []
    },
    "kernelspec": {
      "name": "python3",
      "display_name": "Python 3"
    },
    "language_info": {
      "name": "python"
    }
  },
  "cells": [
    {
      "cell_type": "markdown",
      "source": [
        "<a href=\"https://githubtocolab.com/fuszti/advent_of_code_2022/blob/main/day_05/AoC_2022_Day_05.ipynb\" target=\"_parent\"><img src=\"https://colab.research.google.com/assets/colab-badge.svg\" alt=\"Open in Colab\"/></a>\n",
        "\n",
        "<details>\n",
        "<summary>What is this notebook?</summary>\n",
        "The [Advent of Code](https://adventofcode.com/2022) is an advent calendar with programming tasks. You have to solve 2 algorithmic problems on each day. I challenge myself to solve them by data scientist tools. So you will see pandas, numpy, torch or datatable tricks here. The tasks are not data scientist tasks, so you can find easier or faster solutions. Perhaps you sometimes find my solutions too artificial. But I try to use the data scientist tool as meaningful way as I can.\n",
        "\n",
        "In [my repository](https://github.com/fuszti/advent_of_code_2022) you find the input.txt file for each day. You can upload that to here, so you can run the code on big input.\n",
        "</details>"
      ],
      "metadata": {
        "id": "CJXI943VwGP6"
      }
    },
    {
      "cell_type": "code",
      "source": [
        "#@title Creating example small input file { display-mode: \"form\" }\n",
        "small_input_text = \\\n",
        "\"\"\"    [D]    \n",
        "[N] [C]    \n",
        "[Z] [M] [P]\n",
        " 1   2   3 \n",
        "\n",
        "move 1 from 2 to 1\n",
        "move 3 from 1 to 3\n",
        "move 2 from 2 to 1\n",
        "move 1 from 1 to 2\"\"\"\n",
        "with open(\"small_input.txt\", \"w\") as small_file:\n",
        "    small_file.write(small_input_text)"
      ],
      "metadata": {
        "id": "RiSDEb3-wIlJ"
      },
      "execution_count": 1,
      "outputs": []
    },
    {
      "cell_type": "markdown",
      "source": [
        "# Task 1\n",
        "Source: https://adventofcode.com/2022/day/5\n",
        "<details>\n",
        "  <summary>Show me the description of the task 1</summary>\n",
        "--- Day 5: Supply Stacks ---\n",
        "The expedition can depart as soon as the final supplies have been unloaded from the ships. Supplies are stored in stacks of marked crates, but because the needed supplies are buried under many other crates, the crates need to be rearranged.\n",
        "\n",
        "The ship has a giant cargo crane capable of moving crates between stacks. To ensure none of the crates get crushed or fall over, the crane operator will rearrange them in a series of carefully-planned steps. After the crates are rearranged, the desired crates will be at the top of each stack.\n",
        "\n",
        "The Elves don't want to interrupt the crane operator during this delicate procedure, but they forgot to ask her which crate will end up where, and they want to be ready to unload them as soon as possible so they can embark.\n",
        "\n",
        "They do, however, have a drawing of the starting stacks of crates and the rearrangement procedure (your puzzle input). For example:\n",
        "\n",
        "    [D]    \n",
        "[N] [C]    \n",
        "[Z] [M] [P]\n",
        " 1   2   3 \n",
        "\n",
        "move 1 from 2 to 1\n",
        "move 3 from 1 to 3\n",
        "move 2 from 2 to 1\n",
        "move 1 from 1 to 2\n",
        "In this example, there are three stacks of crates. Stack 1 contains two crates: crate Z is on the bottom, and crate N is on top. Stack 2 contains three crates; from bottom to top, they are crates M, C, and D. Finally, stack 3 contains a single crate, P.\n",
        "\n",
        "Then, the rearrangement procedure is given. In each step of the procedure, a quantity of crates is moved from one stack to a different stack. In the first step of the above rearrangement procedure, one crate is moved from stack 2 to stack 1, resulting in this configuration:\n",
        "\n",
        "[D]        \n",
        "[N] [C]    \n",
        "[Z] [M] [P]\n",
        " 1   2   3 \n",
        "In the second step, three crates are moved from stack 1 to stack 3. Crates are moved one at a time, so the first crate to be moved (D) ends up below the second and third crates:\n",
        "\n",
        "        [Z]\n",
        "        [N]\n",
        "    [C] [D]\n",
        "    [M] [P]\n",
        " 1   2   3\n",
        "Then, both crates are moved from stack 2 to stack 1. Again, because crates are moved one at a time, crate C ends up below crate M:\n",
        "\n",
        "        [Z]\n",
        "        [N]\n",
        "[M]     [D]\n",
        "[C]     [P]\n",
        " 1   2   3\n",
        "Finally, one crate is moved from stack 1 to stack 2:\n",
        "\n",
        "        [Z]\n",
        "        [N]\n",
        "        [D]\n",
        "[C] [M] [P]\n",
        " 1   2   3\n",
        "The Elves just need to know which crate will end up on top of each stack; in this example, the top crates are C in stack 1, M in stack 2, and Z in stack 3, so you should combine these together and give the Elves the message CMZ.\n",
        "\n",
        "After the rearrangement procedure completes, what crate ends up on top of each stack?\n",
        "</details>"
      ],
      "metadata": {
        "id": "AJsl3W8LCG42"
      }
    },
    {
      "cell_type": "code",
      "source": [
        "from dataclasses import dataclass\n",
        "from matplotlib import pyplot as plt"
      ],
      "metadata": {
        "id": "7LiNCBYCyO9R"
      },
      "execution_count": 24,
      "outputs": []
    },
    {
      "cell_type": "code",
      "source": [
        "@dataclass\n",
        "class Command:\n",
        "    count: int\n",
        "    from_stack: int\n",
        "    to_stack: int\n",
        "\n",
        "CHAR_IDX_TO_STACK_IDX = dict([(4*i + 1, i) for i in range(10)])\n",
        "\n",
        "def solve_task_1(input_file_name):\n",
        "    stacks, commands = read_stacks_and_commands(input_file_name)\n",
        "    for command in commands:\n",
        "        for _ in range(command.count):\n",
        "            stacks[command.to_stack].append(stacks[command.from_stack].pop())\n",
        "    plot_stacks(stacks)\n",
        "\n",
        "def read_stacks_and_commands(input_file_name):\n",
        "    commands = []\n",
        "    stacks = []\n",
        "    for _ in range(10):\n",
        "        stacks.append([])\n",
        "    reading_stacks = True\n",
        "    with open(input_file_name, \"r\") as input_file:\n",
        "        for line in input_file:\n",
        "            line = line.rstrip()\n",
        "            if len(line) == 0 or line[1] == \"1\":\n",
        "                reading_stacks = False\n",
        "                continue\n",
        "            if reading_stacks:\n",
        "                update_stacks(stacks, line)\n",
        "            else:\n",
        "                commands.append(convert_to_command(line))\n",
        "    [s.reverse() for s in stacks]\n",
        "    return stacks, commands\n",
        "\n",
        "def plot_stacks(stacks):\n",
        "    fig, ax = plt.subplots()\n",
        "    for i, stack in enumerate(stacks):\n",
        "        ax.bar(i, len(stack))\n",
        "    for i, stack in enumerate(stacks):\n",
        "        if stack:\n",
        "            ax.text(i, len(stack), stack[-1], ha='center',\n",
        "                    weight='bold')\n",
        "    ax.legend()\n",
        "\n",
        "def update_stacks(stacks, line):\n",
        "    for char_idx in CHAR_IDX_TO_STACK_IDX:\n",
        "        if char_idx < len(line) and line[char_idx] != \" \":\n",
        "            stacks[CHAR_IDX_TO_STACK_IDX[char_idx]].append(line[char_idx])\n",
        "\n",
        "def convert_to_command(line):\n",
        "    line = line[5:]\n",
        "    count_str, other = line.split(\" from \")\n",
        "    from_str, to_str = other.split(\" to \")\n",
        "    return Command(int(count_str), int(from_str) - 1, int(to_str) - 1)\n",
        "    "
      ],
      "metadata": {
        "id": "UO0T3oYhyQhy"
      },
      "execution_count": 50,
      "outputs": []
    },
    {
      "cell_type": "code",
      "source": [
        "input_file_name = \"small_input.txt\"\n",
        "solve_task_1(input_file_name)"
      ],
      "metadata": {
        "id": "ec15e5eJwqaj",
        "colab": {
          "base_uri": "https://localhost:8080/",
          "height": 282
        },
        "outputId": "e64fdb9b-805a-4ec3-9e93-0d7ee7118436"
      },
      "execution_count": 51,
      "outputs": [
        {
          "output_type": "stream",
          "name": "stderr",
          "text": [
            "WARNING:matplotlib.legend:No handles with labels found to put in legend.\n"
          ]
        },
        {
          "output_type": "display_data",
          "data": {
            "text/plain": [
              "<Figure size 432x288 with 1 Axes>"
            ],
            "image/png": "[encoded data removed]"
          },
          "metadata": {
            "needs_background": "light"
          }
        }
      ]
    },
    {
      "cell_type": "markdown",
      "source": [
        "## Key tricks\n",
        "How to put text on a barplot."
      ],
      "metadata": {
        "id": "6wcM9-CBEE2b"
      }
    },
    {
      "cell_type": "markdown",
      "source": [
        "# Task 2\n",
        "\n",
        "Source: https://adventofcode.com/2022/day/5\n",
        "<details>\n",
        "  <summary>Show me the description of the task 2</summary>\n",
        "  \n",
        "--- Part Two ---\n",
        "As you watch the crane operator expertly rearrange the crates, you notice the process isn't following your prediction.\n",
        "\n",
        "Some mud was covering the writing on the side of the crane, and you quickly wipe it away. The crane isn't a CrateMover 9000 - it's a CrateMover 9001.\n",
        "\n",
        "The CrateMover 9001 is notable for many new and exciting features: air conditioning, leather seats, an extra cup holder, and the ability to pick up and move multiple crates at once.\n",
        "\n",
        "Again considering the example above, the crates begin in the same configuration:\n",
        "\n",
        "    [D]    \n",
        "[N] [C]    \n",
        "[Z] [M] [P]\n",
        " 1   2   3 \n",
        "Moving a single crate from stack 2 to stack 1 behaves the same as before:\n",
        "\n",
        "[D]        \n",
        "[N] [C]    \n",
        "[Z] [M] [P]\n",
        " 1   2   3 \n",
        "However, the action of moving three crates from stack 1 to stack 3 means that those three moved crates stay in the same order, resulting in this new configuration:\n",
        "\n",
        "        [D]\n",
        "        [N]\n",
        "    [C] [Z]\n",
        "    [M] [P]\n",
        " 1   2   3\n",
        "Next, as both crates are moved from stack 2 to stack 1, they retain their order as well:\n",
        "\n",
        "        [D]\n",
        "        [N]\n",
        "[C]     [Z]\n",
        "[M]     [P]\n",
        " 1   2   3\n",
        "Finally, a single crate is still moved from stack 1 to stack 2, but now it's crate C that gets moved:\n",
        "\n",
        "        [D]\n",
        "        [N]\n",
        "        [Z]\n",
        "[M] [C] [P]\n",
        " 1   2   3\n",
        "In this example, the CrateMover 9001 has put the crates in a totally different order: MCD.\n",
        "\n",
        "Before the rearrangement process finishes, update your simulation so that the Elves know where they should stand to be ready to unload the final supplies. After the rearrangement procedure completes, what crate ends up on top of each stack?\n",
        "</details>"
      ],
      "metadata": {
        "id": "8JNW3HKw2EFQ"
      }
    },
    {
      "cell_type": "code",
      "source": [
        "def solve_task_2(input_file_name):\n",
        "    stacks, commands = read_stacks_and_commands(input_file_name)\n",
        "    for command in commands:\n",
        "        moving = stacks[command.from_stack][-command.count:]\n",
        "        stacks[command.from_stack] = stacks[command.from_stack][:-command.count]\n",
        "        stacks[command.to_stack].extend(moving)\n",
        "    plot_stacks(stacks)"
      ],
      "metadata": {
        "id": "Jlzcs-on0vjc"
      },
      "execution_count": 61,
      "outputs": []
    },
    {
      "cell_type": "code",
      "source": [
        "input_file_name = \"small_input.txt\"\n",
        "solve_task_2(input_file_name)"
      ],
      "metadata": {
        "id": "2uaZ65q022sh",
        "colab": {
          "base_uri": "https://localhost:8080/",
          "height": 282
        },
        "outputId": "4046d7df-dcfc-4abe-96b2-ed7242147cfe"
      },
      "execution_count": 62,
      "outputs": [
        {
          "output_type": "stream",
          "name": "stderr",
          "text": [
            "WARNING:matplotlib.legend:No handles with labels found to put in legend.\n"
          ]
        },
        {
          "output_type": "display_data",
          "data": {
            "text/plain": [
              "<Figure size 432x288 with 1 Axes>"
            ],
            "image/png": "[encoded data removed]"
          },
          "metadata": {
            "needs_background": "light"
          }
        }
      ]
    },
    {
      "cell_type": "markdown",
      "source": [
        "## Key tricks\n",
        "Same"
      ],
      "metadata": {
        "id": "0xO0odvQFho-"
      }
    },
    {
      "cell_type": "code",
      "source": [],
      "metadata": {
        "id": "WQEBWtfMhQ2C"
      },
      "execution_count": null,
      "outputs": []
    }
  ]
}