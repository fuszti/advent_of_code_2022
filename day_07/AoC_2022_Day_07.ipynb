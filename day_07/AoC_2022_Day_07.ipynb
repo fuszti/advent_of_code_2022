{
  "nbformat": 4,
  "nbformat_minor": 0,
  "metadata": {
    "colab": {
      "provenance": []
    },
    "kernelspec": {
      "name": "python3",
      "display_name": "Python 3"
    },
    "language_info": {
      "name": "python"
    }
  },
  "cells": [
    {
      "cell_type": "markdown",
      "source": [
        "<a href=\"https://githubtocolab.com/fuszti/advent_of_code_2022/blob/main/day_07/AoC_2022_Day_07.ipynb\" target=\"_parent\"><img src=\"https://colab.research.google.com/assets/colab-badge.svg\" alt=\"Open in Colab\"/></a>\n",
        "\n",
        "<details>\n",
        "<summary>What is this notebook?</summary>\n",
        "The [Advent of Code](https://adventofcode.com/2022) is an advent calendar with programming tasks. You have to solve 2 algorithmic problems on each day. I challenge myself to solve them by data scientist tools. So you will see pandas, numpy, torch or datatable tricks here. The tasks are not data scientist tasks, so you can find easier or faster solutions. Perhaps you sometimes find my solutions too artificial. But I try to use the data scientist tool as meaningful way as I can.\n",
        "\n",
        "In [my repository](https://github.com/fuszti/advent_of_code_2022) you find the input.txt file for each day. You can upload that to here, so you can run the code on big input.\n",
        "</details>"
      ],
      "metadata": {
        "id": "CJXI943VwGP6"
      }
    },
    {
      "cell_type": "code",
      "source": [
        "#@title Creating example small input file { display-mode: \"form\" }\n",
        "small_input_text = \\\n",
        "\"\"\"$ cd /\n",
        "$ ls\n",
        "dir a\n",
        "14848514 b.txt\n",
        "8504156 c.dat\n",
        "dir d\n",
        "$ cd a\n",
        "$ ls\n",
        "dir e\n",
        "29116 f\n",
        "2557 g\n",
        "62596 h.lst\n",
        "$ cd e\n",
        "$ ls\n",
        "584 i\n",
        "$ cd ..\n",
        "$ cd ..\n",
        "$ cd d\n",
        "$ ls\n",
        "4060174 j\n",
        "8033020 d.log\n",
        "5626152 d.ext\n",
        "7214296 k\"\"\"\n",
        "with open(\"small_input.txt\", \"w\") as small_file:\n",
        "    small_file.write(small_input_text)"
      ],
      "metadata": {
        "id": "RiSDEb3-wIlJ"
      },
      "execution_count": 2,
      "outputs": []
    },
    {
      "cell_type": "markdown",
      "source": [
        "# Task 1\n",
        "Source: https://adventofcode.com/2022/day/7\n",
        "<details>\n",
        "  <summary>Show me the description of the task 1</summary>\n",
        "--- Day 7: No Space Left On Device ---\n",
        "You can hear birds chirping and raindrops hitting leaves as the expedition proceeds. Occasionally, you can even hear much louder sounds in the distance; how big do the animals get out here, anyway?\n",
        "\n",
        "The device the Elves gave you has problems with more than just its communication system. You try to run a system update:\n",
        "\n",
        "$ system-update --please --pretty-please-with-sugar-on-top\n",
        "Error: No space left on device\n",
        "Perhaps you can delete some files to make space for the update?\n",
        "\n",
        "You browse around the filesystem to assess the situation and save the resulting terminal output (your puzzle input). For example:\n",
        "\n",
        "$ cd /\n",
        "$ ls\n",
        "dir a\n",
        "14848514 b.txt\n",
        "8504156 c.dat\n",
        "dir d\n",
        "$ cd a\n",
        "$ ls\n",
        "dir e\n",
        "29116 f\n",
        "2557 g\n",
        "62596 h.lst\n",
        "$ cd e\n",
        "$ ls\n",
        "584 i\n",
        "$ cd ..\n",
        "$ cd ..\n",
        "$ cd d\n",
        "$ ls\n",
        "4060174 j\n",
        "8033020 d.log\n",
        "5626152 d.ext\n",
        "7214296 k\n",
        "The filesystem consists of a tree of files (plain data) and directories (which can contain other directories or files). The outermost directory is called /. You can navigate around the filesystem, moving into or out of directories and listing the contents of the directory you're currently in.\n",
        "\n",
        "Within the terminal output, lines that begin with $ are commands you executed, very much like some modern computers:\n",
        "\n",
        "cd means change directory. This changes which directory is the current directory, but the specific result depends on the argument:\n",
        "cd x moves in one level: it looks in the current directory for the directory named x and makes it the current directory.\n",
        "cd .. moves out one level: it finds the directory that contains the current directory, then makes that directory the current directory.\n",
        "cd / switches the current directory to the outermost directory, /.\n",
        "ls means list. It prints out all of the files and directories immediately contained by the current directory:\n",
        "123 abc means that the current directory contains a file named abc with size 123.\n",
        "dir xyz means that the current directory contains a directory named xyz.\n",
        "Given the commands and output in the example above, you can determine that the filesystem looks visually like this:\n",
        "\n",
        "- / (dir)\n",
        "  - a (dir)\n",
        "    - e (dir)\n",
        "      - i (file, size=584)\n",
        "    - f (file, size=29116)\n",
        "    - g (file, size=2557)\n",
        "    - h.lst (file, size=62596)\n",
        "  - b.txt (file, size=14848514)\n",
        "  - c.dat (file, size=8504156)\n",
        "  - d (dir)\n",
        "    - j (file, size=4060174)\n",
        "    - d.log (file, size=8033020)\n",
        "    - d.ext (file, size=5626152)\n",
        "    - k (file, size=7214296)\n",
        "Here, there are four directories: / (the outermost directory), a and d (which are in /), and e (which is in a). These directories also contain files of various sizes.\n",
        "\n",
        "Since the disk is full, your first step should probably be to find directories that are good candidates for deletion. To do this, you need to determine the total size of each directory. The total size of a directory is the sum of the sizes of the files it contains, directly or indirectly. (Directories themselves do not count as having any intrinsic size.)\n",
        "\n",
        "The total sizes of the directories above can be found as follows:\n",
        "\n",
        "The total size of directory e is 584 because it contains a single file i of size 584 and no other directories.\n",
        "The directory a has total size 94853 because it contains files f (size 29116), g (size 2557), and h.lst (size 62596), plus file i indirectly (a contains e which contains i).\n",
        "Directory d has total size 24933642.\n",
        "As the outermost directory, / contains every file. Its total size is 48381165, the sum of the size of every file.\n",
        "To begin, find all of the directories with a total size of at most 100000, then calculate the sum of their total sizes. In the example above, these directories are a and e; the sum of their total sizes is 95437 (94853 + 584). (As in this example, this process can count files more than once!)\n",
        "\n",
        "Find all of the directories with a total size of at most 100000. What is the sum of the total sizes of those directories?\n",
        "</details>"
      ],
      "metadata": {
        "id": "AJsl3W8LCG42"
      }
    },
    {
      "cell_type": "code",
      "source": [
        "from dataclasses import dataclass\n",
        "from matplotlib import pyplot as plt\n",
        "from typing import List, Dict"
      ],
      "metadata": {
        "id": "7LiNCBYCyO9R"
      },
      "execution_count": 8,
      "outputs": []
    },
    {
      "cell_type": "code",
      "source": [
        "THRESHOLD = 100000\n",
        "@dataclass\n",
        "class File:\n",
        "    size: int\n",
        "\n",
        "@dataclass\n",
        "class Folder:\n",
        "    parent: 'Folder'\n",
        "    folders: Dict[str, 'Folder']\n",
        "    files: List[File]\n",
        "    size: int = -1\n",
        "\n",
        "    def is_size_calculated(self):\n",
        "        return self.size > 0\n",
        "\n",
        "def default_size_plotter(folders: List[Folder], threshold=100000):\n",
        "    fig, ax = plt.subplots()\n",
        "    for i, folder in enumerate(folders):\n",
        "        c = \"r\" if folder.size <= threshold else \"b\"\n",
        "        ax.bar(i, folder.size, color=c)\n",
        "    ax.legend()\n",
        "\n",
        "def solve_task_1(input_file_name, size_plot=default_size_plotter):\n",
        "    root_folder, folders = read_prompt(input_file_name)\n",
        "    calculate_folder_sizes(root_folder)\n",
        "    size_plot(folders, THRESHOLD)\n",
        "    print(sum([f.size for f in folders if f.size <=THRESHOLD]))\n",
        "\n",
        "def read_prompt(input_file_name):\n",
        "    root = Folder(None, {\"/\": Folder(None, {}, [])}, [])\n",
        "    folders = []\n",
        "    current_folder = root\n",
        "    with open(input_file_name, \"r\") as input_file:\n",
        "        for line in input_file:\n",
        "            line = line.strip()\n",
        "            parts = line.split()\n",
        "            if _is_cd_command(parts):\n",
        "                if parts[2] == \"..\":\n",
        "                    current_folder = current_folder.parent\n",
        "                else:\n",
        "                    current_folder = current_folder.folders[parts[2]]\n",
        "            elif _is_dir_name(parts):\n",
        "                folders.append(Folder(current_folder, {}, []))\n",
        "                current_folder.folders[parts[1]] = folders[-1]\n",
        "            elif _is_file(parts):\n",
        "                current_folder.files.append(File(int(parts[0])))\n",
        "            else:\n",
        "                continue\n",
        "    return root, folders\n",
        "\n",
        "def calculate_folder_sizes(folder):\n",
        "    folder.size = 0\n",
        "    for current_file in folder.files:\n",
        "        folder.size += current_file.size\n",
        "    for _, current_folder in folder.folders.items():\n",
        "        if not current_folder.is_size_calculated():\n",
        "            calculate_folder_sizes(current_folder)\n",
        "        folder.size += current_folder.size\n",
        "\n",
        "def _is_cd_command(parts):\n",
        "    return parts[1] == \"cd\"\n",
        "\n",
        "def _is_dir_name(parts):\n",
        "    return parts[0] == \"dir\"\n",
        "\n",
        "def _is_file(parts):\n",
        "    return len(parts) == 2 and parts[0] != \"$\" and \\\n",
        "        parts[0] != \"dir\""
      ],
      "metadata": {
        "id": "UO0T3oYhyQhy"
      },
      "execution_count": 17,
      "outputs": []
    },
    {
      "cell_type": "code",
      "source": [
        "input_file_name = \"small_input.txt\"\n",
        "solve_task_1(input_file_name)"
      ],
      "metadata": {
        "id": "ec15e5eJwqaj",
        "colab": {
          "base_uri": "https://localhost:8080/",
          "height": 311
        },
        "outputId": "a99e7557-f32a-4536-8044-52815bcdb6f1"
      },
      "execution_count": 19,
      "outputs": [
        {
          "output_type": "stream",
          "name": "stderr",
          "text": [
            "WARNING:matplotlib.legend:No handles with labels found to put in legend.\n"
          ]
        },
        {
          "output_type": "stream",
          "name": "stdout",
          "text": [
            "1206825\n"
          ]
        },
        {
          "output_type": "display_data",
          "data": {
            "text/plain": [
              "<Figure size 432x288 with 1 Axes>"
            ],
            "image/png": "[encoded data removed]"
          },
          "metadata": {
            "needs_background": "light"
          }
        }
      ]
    },
    {
      "cell_type": "markdown",
      "source": [
        "## Key tricks\n",
        "Eeeeh, coloring bars. But on side of classic algorithms it is a tree building."
      ],
      "metadata": {
        "id": "6wcM9-CBEE2b"
      }
    },
    {
      "cell_type": "markdown",
      "source": [
        "# Task 2\n",
        "\n",
        "Source: https://adventofcode.com/2022/day/7\n",
        "<details>\n",
        "  <summary>Show me the description of the task 2</summary>\n",
        "  \n",
        "--- Part Two ---\n",
        "Now, you're ready to choose a directory to delete.\n",
        "\n",
        "The total disk space available to the filesystem is 70000000. To run the update, you need unused space of at least 30000000. You need to find a directory you can delete that will free up enough space to run the update.\n",
        "\n",
        "In the example above, the total size of the outermost directory (and thus the total amount of used space) is 48381165; this means that the size of the unused space must currently be 21618835, which isn't quite the 30000000 required by the update. Therefore, the update still requires a directory with total size of at least 8381165 to be deleted before it can run.\n",
        "\n",
        "To achieve this, you have the following options:\n",
        "\n",
        "Delete directory e, which would increase unused space by 584.\n",
        "Delete directory a, which would increase unused space by 94853.\n",
        "Delete directory d, which would increase unused space by 24933642.\n",
        "Delete directory /, which would increase unused space by 48381165.\n",
        "Directories e and a are both too small; deleting them would not free up enough space. However, directories d and / are both big enough! Between these, choose the smallest: d, increasing unused space by 24933642.\n",
        "\n",
        "Find the smallest directory that, if deleted, would free up enough space on the filesystem to run the update. What is the total size of that directory?\n",
        "</details>"
      ],
      "metadata": {
        "id": "8JNW3HKw2EFQ"
      }
    },
    {
      "cell_type": "code",
      "source": [
        "FILESYSTEM_SIZE = 70000000\n",
        "REQUIRED_SPACE = 30000000\n",
        "def solve_task_2(input_file_name):\n",
        "    root_folder, folders = read_prompt(input_file_name)\n",
        "    calculate_folder_sizes(root_folder)\n",
        "    deletable_folders_size = [f.size for f in folders \\\n",
        "                         if FILESYSTEM_SIZE - root_folder.size + f.size \\\n",
        "                         >= REQUIRED_SPACE]\n",
        "    print(min(deletable_folders_size))"
      ],
      "metadata": {
        "id": "Jlzcs-on0vjc"
      },
      "execution_count": 20,
      "outputs": []
    },
    {
      "cell_type": "code",
      "source": [
        "input_file_name = \"small_input.txt\"\n",
        "solve_task_2(input_file_name)"
      ],
      "metadata": {
        "id": "2uaZ65q022sh",
        "colab": {
          "base_uri": "https://localhost:8080/"
        },
        "outputId": "b730baaf-8cef-4b94-c914-c352ca53259e"
      },
      "execution_count": 22,
      "outputs": [
        {
          "output_type": "stream",
          "name": "stdout",
          "text": [
            "9608311\n"
          ]
        }
      ]
    },
    {
      "cell_type": "markdown",
      "source": [
        "## Key tricks\n",
        "Nothing"
      ],
      "metadata": {
        "id": "0xO0odvQFho-"
      }
    },
    {
      "cell_type": "code",
      "source": [],
      "metadata": {
        "id": "WQEBWtfMhQ2C"
      },
      "execution_count": null,
      "outputs": []
    }
  ]
}